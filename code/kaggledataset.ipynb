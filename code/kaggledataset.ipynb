{
  "nbformat": 4,
  "nbformat_minor": 0,
  "metadata": {
    "colab": {
      "name": "kaggledataset.ipynb",
      "provenance": [],
      "collapsed_sections": [
        "25dG02oySjId"
      ],
      "toc_visible": true
    },
    "kernelspec": {
      "name": "python3",
      "display_name": "Python 3"
    }
  },
  "cells": [
    {
      "cell_type": "code",
      "metadata": {
        "id": "1fAkXO3BSR1y",
        "colab_type": "code",
        "colab": {}
      },
      "source": [
        "import os\n",
        "import numpy as np\n",
        "import pandas as pd\n"
      ],
      "execution_count": 0,
      "outputs": []
    },
    {
      "cell_type": "code",
      "metadata": {
        "id": "tpMddfI4TT6L",
        "colab_type": "code",
        "colab": {}
      },
      "source": [
        "import pickle"
      ],
      "execution_count": 0,
      "outputs": []
    },
    {
      "cell_type": "code",
      "metadata": {
        "id": "ki0-zJKSSU7-",
        "colab_type": "code",
        "outputId": "1b1732bd-7803-4bcb-a4e6-58ed4446d817",
        "colab": {
          "base_uri": "https://localhost:8080/",
          "height": 34
        }
      },
      "source": [
        "os.getcwd()"
      ],
      "execution_count": 2,
      "outputs": [
        {
          "output_type": "execute_result",
          "data": {
            "text/plain": [
              "'/content'"
            ]
          },
          "metadata": {
            "tags": []
          },
          "execution_count": 2
        }
      ]
    },
    {
      "cell_type": "code",
      "metadata": {
        "id": "W1ljbVx7SYTK",
        "colab_type": "code",
        "colab": {}
      },
      "source": [
        "dataset=pd.read_csv('train.csv')"
      ],
      "execution_count": 0,
      "outputs": []
    },
    {
      "cell_type": "code",
      "metadata": {
        "id": "GpLqsIFN1CSW",
        "colab_type": "code",
        "outputId": "e56875b6-4c48-4ce0-fb61-d52252df3715",
        "colab": {
          "base_uri": "https://localhost:8080/",
          "height": 34
        }
      },
      "source": [
        "dataset.shape\n"
      ],
      "execution_count": 4,
      "outputs": [
        {
          "output_type": "execute_result",
          "data": {
            "text/plain": [
              "(5000000, 3)"
            ]
          },
          "metadata": {
            "tags": []
          },
          "execution_count": 4
        }
      ]
    },
    {
      "cell_type": "code",
      "metadata": {
        "id": "tMyuXnKsGYCM",
        "colab_type": "code",
        "colab": {}
      },
      "source": [
        "def batchnum(ts,div):\n",
        "  qt=(float(ts)*10000)//div\n",
        "  if ((float(ts)*10000)%div)==0:\n",
        "    return 'b'+str(int(qt))\n",
        "  else:\n",
        "    return 'b'+str(int(qt+1))"
      ],
      "execution_count": 0,
      "outputs": []
    },
    {
      "cell_type": "code",
      "metadata": {
        "id": "_7PZLwcRGX9G",
        "colab_type": "code",
        "colab": {}
      },
      "source": [
        "dataset['batch_discrete']=dataset.time.apply(lambda x : batchnum(x,500000))"
      ],
      "execution_count": 0,
      "outputs": []
    },
    {
      "cell_type": "code",
      "metadata": {
        "id": "WBjlcVgSIm_K",
        "colab_type": "code",
        "colab": {}
      },
      "source": [
        "dataset['batch_sec']=dataset.time.apply(lambda x : batchnum(x,10000))"
      ],
      "execution_count": 0,
      "outputs": []
    },
    {
      "cell_type": "code",
      "metadata": {
        "id": "O3Xmx5hKJlVe",
        "colab_type": "code",
        "colab": {}
      },
      "source": [
        "dataset['batch_10khz']=dataset.time.apply(lambda x : batchnum(x,500))"
      ],
      "execution_count": 0,
      "outputs": []
    },
    {
      "cell_type": "code",
      "metadata": {
        "id": "I0aezU_LH5Es",
        "colab_type": "code",
        "colab": {
          "base_uri": "https://localhost:8080/",
          "height": 50
        },
        "outputId": "89ec8301-c3cc-41a9-e950-50272fea6946"
      },
      "source": [
        "dataset.batch_discrete.unique()"
      ],
      "execution_count": 9,
      "outputs": [
        {
          "output_type": "execute_result",
          "data": {
            "text/plain": [
              "array(['b1', 'b2', 'b3', 'b4', 'b5', 'b6', 'b7', 'b8', 'b9', 'b10'],\n",
              "      dtype=object)"
            ]
          },
          "metadata": {
            "tags": []
          },
          "execution_count": 9
        }
      ]
    },
    {
      "cell_type": "code",
      "metadata": {
        "id": "HQTWygxgJKJr",
        "colab_type": "code",
        "colab": {}
      },
      "source": [
        "#dataset.batch_sec.unique()"
      ],
      "execution_count": 0,
      "outputs": []
    },
    {
      "cell_type": "code",
      "metadata": {
        "id": "Gm4bhoBlIFfv",
        "colab_type": "code",
        "colab": {
          "base_uri": "https://localhost:8080/",
          "height": 106
        },
        "outputId": "187d7df1-c03a-48a4-f8e9-66a9a06fb4b9"
      },
      "source": [
        "dataset.head(2)"
      ],
      "execution_count": 102,
      "outputs": [
        {
          "output_type": "execute_result",
          "data": {
            "text/html": [
              "<div>\n",
              "<style scoped>\n",
              "    .dataframe tbody tr th:only-of-type {\n",
              "        vertical-align: middle;\n",
              "    }\n",
              "\n",
              "    .dataframe tbody tr th {\n",
              "        vertical-align: top;\n",
              "    }\n",
              "\n",
              "    .dataframe thead th {\n",
              "        text-align: right;\n",
              "    }\n",
              "</style>\n",
              "<table border=\"1\" class=\"dataframe\">\n",
              "  <thead>\n",
              "    <tr style=\"text-align: right;\">\n",
              "      <th></th>\n",
              "      <th>time</th>\n",
              "      <th>signal</th>\n",
              "      <th>open_channels</th>\n",
              "      <th>batch_discrete</th>\n",
              "      <th>batch_sec</th>\n",
              "      <th>batch_10khz</th>\n",
              "    </tr>\n",
              "  </thead>\n",
              "  <tbody>\n",
              "    <tr>\n",
              "      <th>0</th>\n",
              "      <td>0.0001</td>\n",
              "      <td>-2.7600</td>\n",
              "      <td>0</td>\n",
              "      <td>b1</td>\n",
              "      <td>b1</td>\n",
              "      <td>b1</td>\n",
              "    </tr>\n",
              "    <tr>\n",
              "      <th>1</th>\n",
              "      <td>0.0002</td>\n",
              "      <td>-2.8557</td>\n",
              "      <td>0</td>\n",
              "      <td>b1</td>\n",
              "      <td>b1</td>\n",
              "      <td>b1</td>\n",
              "    </tr>\n",
              "  </tbody>\n",
              "</table>\n",
              "</div>"
            ],
            "text/plain": [
              "     time  signal  open_channels batch_discrete batch_sec batch_10khz\n",
              "0  0.0001 -2.7600              0             b1        b1          b1\n",
              "1  0.0002 -2.8557              0             b1        b1          b1"
            ]
          },
          "metadata": {
            "tags": []
          },
          "execution_count": 102
        }
      ]
    },
    {
      "cell_type": "code",
      "metadata": {
        "id": "xKhVCHI3KbTx",
        "colab_type": "code",
        "colab": {}
      },
      "source": [
        ""
      ],
      "execution_count": 0,
      "outputs": []
    },
    {
      "cell_type": "code",
      "metadata": {
        "id": "pHMJZn43Kbfl",
        "colab_type": "code",
        "colab": {}
      },
      "source": [
        ""
      ],
      "execution_count": 0,
      "outputs": []
    },
    {
      "cell_type": "code",
      "metadata": {
        "id": "a99qBwfwKbcP",
        "colab_type": "code",
        "colab": {}
      },
      "source": [
        ""
      ],
      "execution_count": 0,
      "outputs": []
    },
    {
      "cell_type": "code",
      "metadata": {
        "id": "ELxovhBeUdiT",
        "colab_type": "code",
        "colab": {}
      },
      "source": [
        "for col in ['batch_discrete','batch_sec','batch_10khz']:\n",
        "    dct={}\n",
        "    dct[col+'mean']=dataset[['signal',col]].groupby(col)['signal'].mean()\n",
        "    dct[col+'median']=dataset[['signal',col]].groupby(col)['signal'].median()\n",
        "    dct[col+'stdev']=dataset[['signal',col]].groupby(col)['signal'].std()\n",
        "    dct[col+'min']=dataset[['signal',col]].groupby(col)['signal'].min()\n",
        "    dct[col+'max']=dataset[['signal',col]].groupby(col)['signal'].max()\n",
        "    dct[col+'25percentile']=dataset[['signal',col]].groupby(col)['signal'].quantile(.25)\n",
        "    dct[col+'75percentile']=dataset[['signal',col]].groupby(col)['signal'].quantile(.75)\n",
        "    for val in dct:\n",
        "            dataset[val] = dataset[col].map(dct[val].to_dict())\n",
        "    dataset[col+'range']=dataset[col+'max']-dataset[col+'min']\n",
        "    dataset[col+'minmax']=dataset[col+'min']/dataset[col+'max']\n",
        "    dataset[col+'prev']=dataset['signal'].shift(-1).fillna(dataset['signal'].values[-2])\n",
        "    dataset[col+'next']=dataset['signal'].shift(+1).fillna(dataset['signal'].values[1])"
      ],
      "execution_count": 0,
      "outputs": []
    },
    {
      "cell_type": "code",
      "metadata": {
        "id": "B-hj6-_tUfQE",
        "colab_type": "code",
        "colab": {
          "base_uri": "https://localhost:8080/",
          "height": 34
        },
        "outputId": "0ab6a0c2-e85a-4ae1-b20a-e66fe87acf36"
      },
      "source": [
        "dataset.head(2)\n",
        "len(dataset.columns)"
      ],
      "execution_count": 11,
      "outputs": [
        {
          "output_type": "execute_result",
          "data": {
            "text/plain": [
              "39"
            ]
          },
          "metadata": {
            "tags": []
          },
          "execution_count": 11
        }
      ]
    },
    {
      "cell_type": "code",
      "metadata": {
        "id": "ayUDU_vazmvR",
        "colab_type": "code",
        "colab": {}
      },
      "source": [
        "X=dataset.drop(columns=['time','batch_discrete','batch_sec','batch_10khz','signal','open_channels']).values"
      ],
      "execution_count": 0,
      "outputs": []
    },
    {
      "cell_type": "code",
      "metadata": {
        "id": "Ixw4xLDaxCBT",
        "colab_type": "code",
        "colab": {}
      },
      "source": [
        "y=dataset[['open_channels']].values"
      ],
      "execution_count": 0,
      "outputs": []
    },
    {
      "cell_type": "code",
      "metadata": {
        "id": "bP0ellMBxCSe",
        "colab_type": "code",
        "colab": {}
      },
      "source": [
        "from sklearn.model_selection import train_test_split"
      ],
      "execution_count": 0,
      "outputs": []
    },
    {
      "cell_type": "code",
      "metadata": {
        "id": "u_Om7vr-xCo_",
        "colab_type": "code",
        "colab": {}
      },
      "source": [
        "X_train, X_test, y_train, y_test = train_test_split(X, y, test_size=0.25, random_state=1)\n"
      ],
      "execution_count": 0,
      "outputs": []
    },
    {
      "cell_type": "code",
      "metadata": {
        "id": "IDkGNkka8uEZ",
        "colab_type": "code",
        "colab": {}
      },
      "source": [
        "from sklearn.linear_model import LogisticRegression\n",
        "logmodel=LogisticRegression()"
      ],
      "execution_count": 0,
      "outputs": []
    },
    {
      "cell_type": "code",
      "metadata": {
        "id": "iymJeMLLxDGY",
        "colab_type": "code",
        "colab": {
          "base_uri": "https://localhost:8080/",
          "height": 289
        },
        "outputId": "641425ad-4e26-4b47-9ebe-c44e53832919"
      },
      "source": [
        "logmodel.fit(X_train,y_train)"
      ],
      "execution_count": 17,
      "outputs": [
        {
          "output_type": "stream",
          "text": [
            "/usr/local/lib/python3.6/dist-packages/sklearn/utils/validation.py:760: DataConversionWarning: A column-vector y was passed when a 1d array was expected. Please change the shape of y to (n_samples, ), for example using ravel().\n",
            "  y = column_or_1d(y, warn=True)\n",
            "/usr/local/lib/python3.6/dist-packages/sklearn/linear_model/_logistic.py:940: ConvergenceWarning: lbfgs failed to converge (status=1):\n",
            "STOP: TOTAL NO. of ITERATIONS REACHED LIMIT.\n",
            "\n",
            "Increase the number of iterations (max_iter) or scale the data as shown in:\n",
            "    https://scikit-learn.org/stable/modules/preprocessing.html\n",
            "Please also refer to the documentation for alternative solver options:\n",
            "    https://scikit-learn.org/stable/modules/linear_model.html#logistic-regression\n",
            "  extra_warning_msg=_LOGISTIC_SOLVER_CONVERGENCE_MSG)\n"
          ],
          "name": "stderr"
        },
        {
          "output_type": "execute_result",
          "data": {
            "text/plain": [
              "LogisticRegression(C=1.0, class_weight=None, dual=False, fit_intercept=True,\n",
              "                   intercept_scaling=1, l1_ratio=None, max_iter=100,\n",
              "                   multi_class='auto', n_jobs=None, penalty='l2',\n",
              "                   random_state=None, solver='lbfgs', tol=0.0001, verbose=0,\n",
              "                   warm_start=False)"
            ]
          },
          "metadata": {
            "tags": []
          },
          "execution_count": 17
        }
      ]
    },
    {
      "cell_type": "code",
      "metadata": {
        "id": "v1NzAD7WxDO7",
        "colab_type": "code",
        "colab": {}
      },
      "source": [
        "predictions = logmodel.predict(X_test)"
      ],
      "execution_count": 0,
      "outputs": []
    },
    {
      "cell_type": "code",
      "metadata": {
        "id": "ziyyU76qWlrX",
        "colab_type": "code",
        "colab": {
          "base_uri": "https://localhost:8080/",
          "height": 54
        },
        "outputId": "f38c66d0-7449-46a0-935b-5c704d08cd36"
      },
      "source": [
        "from sklearn.metrics import classification_report\n",
        "classification_report(y_test,predictions)"
      ],
      "execution_count": 21,
      "outputs": [
        {
          "output_type": "execute_result",
          "data": {
            "text/plain": [
              "'              precision    recall  f1-score   support\\n\\n           0       0.95      0.93      0.94    310144\\n           1       0.84      0.81      0.83    246264\\n           2       0.61      0.65      0.63    138257\\n           3       0.63      0.55      0.59    167164\\n           4       0.45      0.81      0.58    100448\\n           5       0.06      0.01      0.01     69833\\n           6       0.37      0.37      0.37     46926\\n           7       0.43      0.42      0.43     66622\\n           8       0.43      0.64      0.52     61240\\n           9       0.47      0.26      0.34     34006\\n          10       0.19      0.20      0.19      9096\\n\\n    accuracy                           0.68   1250000\\n   macro avg       0.49      0.51      0.49   1250000\\nweighted avg       0.67      0.68      0.66   1250000\\n'"
            ]
          },
          "metadata": {
            "tags": []
          },
          "execution_count": 21
        }
      ]
    },
    {
      "cell_type": "code",
      "metadata": {
        "id": "Lnalmpw6U8Li",
        "colab_type": "code",
        "colab": {
          "base_uri": "https://localhost:8080/",
          "height": 386
        },
        "outputId": "53b10c9e-3b91-4f66-c614-a72c4d6610fa"
      },
      "source": [
        "from sklearn.metrics import confusion_matrix\n",
        "confusion_matrix(y_test,predictions)"
      ],
      "execution_count": 22,
      "outputs": [
        {
          "output_type": "execute_result",
          "data": {
            "text/plain": [
              "array([[287670,  20888,   1520,     46,     14,      0,      0,      0,\n",
              "             0,      3,      3],\n",
              "       [ 14481, 200613,  28442,   1933,    685,      1,     24,      0,\n",
              "             2,     36,     47],\n",
              "       [   727,   8038,  89826,  28849,  10344,      3,    142,      1,\n",
              "            10,    128,    189],\n",
              "       [   177,   1600,  22067,  92328,  49440,     51,    942,     24,\n",
              "            51,    190,    294],\n",
              "       [    79,   1576,   1142,  10111,  80986,    272,   4649,    367,\n",
              "           115,    434,    717],\n",
              "       [    39,   2576,   1437,   2426,  38238,    360,  13359,   4009,\n",
              "           483,   1323,   5583],\n",
              "       [     8,   2100,   1407,   2911,     73,    734,  17174,  17931,\n",
              "          4557,     31,      0],\n",
              "       [     1,    899,    531,   4293,     48,   1954,   8351,  27899,\n",
              "         22192,    433,     21],\n",
              "       [     0,    142,    105,   2659,     26,   1888,   1637,  12287,\n",
              "         38998,   3286,    212],\n",
              "       [     0,     13,     11,    669,      6,    486,    151,   1751,\n",
              "         20868,   9002,   1049],\n",
              "       [     0,      1,      0,     60,      1,     29,      3,     83,\n",
              "          2774,   4301,   1844]])"
            ]
          },
          "metadata": {
            "tags": []
          },
          "execution_count": 22
        }
      ]
    },
    {
      "cell_type": "code",
      "metadata": {
        "id": "9eLkU53hU8GA",
        "colab_type": "code",
        "colab": {
          "base_uri": "https://localhost:8080/",
          "height": 34
        },
        "outputId": "d8bec2a8-e112-46aa-8eb7-ddd28793e618"
      },
      "source": [
        "#dataset.head(1)\n",
        "from sklearn.metrics import accuracy_score\n",
        "accuracy_score(y_test,predictions)"
      ],
      "execution_count": 19,
      "outputs": [
        {
          "output_type": "execute_result",
          "data": {
            "text/plain": [
              "0.67736"
            ]
          },
          "metadata": {
            "tags": []
          },
          "execution_count": 19
        }
      ]
    },
    {
      "cell_type": "markdown",
      "metadata": {
        "id": "25dG02oySjId",
        "colab_type": "text"
      },
      "source": [
        "# New Section"
      ]
    }
  ]
}